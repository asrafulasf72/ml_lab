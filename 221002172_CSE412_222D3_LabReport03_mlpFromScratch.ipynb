{
  "nbformat": 4,
  "nbformat_minor": 0,
  "metadata": {
    "colab": {
      "provenance": [],
      "authorship_tag": "ABX9TyOFhR/0SVvQqZzb2Ch+2/lK",
      "include_colab_link": true
    },
    "kernelspec": {
      "name": "python3",
      "display_name": "Python 3"
    },
    "language_info": {
      "name": "python"
    }
  },
  "cells": [
    {
      "cell_type": "markdown",
      "metadata": {
        "id": "view-in-github",
        "colab_type": "text"
      },
      "source": [
        "<a href=\"https://colab.research.google.com/github/asrafulasf72/ml_lab/blob/main/221002172_CSE412_222D3_LabReport03_mlpFromScratch.ipynb\" target=\"_parent\"><img src=\"https://colab.research.google.com/assets/colab-badge.svg\" alt=\"Open In Colab\"/></a>"
      ]
    },
    {
      "cell_type": "code",
      "execution_count": 1,
      "metadata": {
        "id": "1pYRfoUEtuS0"
      },
      "outputs": [],
      "source": [
        "import numpy as np\n",
        "import matplotlib.pyplot as plt"
      ]
    },
    {
      "cell_type": "code",
      "source": [
        "X = np.array([[0,0],[0,1],[1,0],[1,1]])\n",
        "y = np.array([[0],[1],[1],[0]])"
      ],
      "metadata": {
        "id": "2bWTLzBduA8-"
      },
      "execution_count": 2,
      "outputs": []
    },
    {
      "cell_type": "code",
      "source": [
        "def sigmoid(x): return 1/(1+np.exp(-x))\n",
        "def sigmoid_deriv(x): return x*(1-x)"
      ],
      "metadata": {
        "id": "yXAtSpL9uP01"
      },
      "execution_count": 3,
      "outputs": []
    },
    {
      "cell_type": "code",
      "source": [
        "def relu(x): return np.maximum(0,x)\n",
        "def relu_deriv(x): return (x > 0).astype(float)"
      ],
      "metadata": {
        "id": "cZZysyQ_uVit"
      },
      "execution_count": 4,
      "outputs": []
    },
    {
      "cell_type": "code",
      "source": [
        "def accuracy(y_true, y_pred):\n",
        "    return np.mean(y_true == y_pred)"
      ],
      "metadata": {
        "id": "5-PhdoyOuZn1"
      },
      "execution_count": 5,
      "outputs": []
    },
    {
      "cell_type": "code",
      "source": [
        "def precision(y_true, y_pred):\n",
        "    TP = np.sum((y_true==1) & (y_pred==1))\n",
        "    FP = np.sum((y_true==0) & (y_pred==1))\n",
        "    return TP/(TP+FP+1e-9)"
      ],
      "metadata": {
        "id": "wxR_7owsufHF"
      },
      "execution_count": 6,
      "outputs": []
    },
    {
      "cell_type": "code",
      "source": [
        "def recall(y_true, y_pred):\n",
        "    TP = np.sum((y_true==1) & (y_pred==1))\n",
        "    FN = np.sum((y_true==1) & (y_pred==0))\n",
        "    return TP/(TP+FN+1e-9)"
      ],
      "metadata": {
        "id": "FWyINjC8ughH"
      },
      "execution_count": 7,
      "outputs": []
    },
    {
      "cell_type": "code",
      "source": [
        "def f1_score(y_true, y_pred):\n",
        "    p, r = precision(y_true,y_pred), recall(y_true,y_pred)\n",
        "    return 2*p*r/(p+r+1e-9)"
      ],
      "metadata": {
        "id": "6jFg856kuk1G"
      },
      "execution_count": 8,
      "outputs": []
    },
    {
      "cell_type": "code",
      "source": [
        "def roc_curve(y_true, y_prob):\n",
        "    thresholds = np.linspace(0,1,100)\n",
        "    tpr, fpr = [], []\n",
        "    for t in thresholds:\n",
        "        y_pred = (y_prob >= t).astype(int)\n",
        "        TP = np.sum((y_true==1)&(y_pred==1))\n",
        "        FP = np.sum((y_true==0)&(y_pred==1))\n",
        "        FN = np.sum((y_true==1)&(y_pred==0))\n",
        "        TN = np.sum((y_true==0)&(y_pred==0))\n",
        "        tpr.append(TP/(TP+FN+1e-9))\n",
        "        fpr.append(FP/(FP+TN+1e-9))\n",
        "    return fpr, tpr"
      ],
      "metadata": {
        "id": "9QIOTLGCuqPP"
      },
      "execution_count": 9,
      "outputs": []
    },
    {
      "cell_type": "code",
      "source": [
        "def train_mlp(X, y, hidden_activation=\"sigmoid\", lr=0.1, epochs=5000):\n",
        "    np.random.seed(42)\n",
        "    W1 = np.random.randn(2,2)\n",
        "    b1 = np.zeros((1,2))\n",
        "    W2 = np.random.randn(2,1)\n",
        "    b2 = np.zeros((1,1))\n",
        "\n",
        "    if hidden_activation==\"sigmoid\":\n",
        "        act, act_deriv = sigmoid, sigmoid_deriv\n",
        "    else:\n",
        "        act, act_deriv = relu, relu_deriv\n",
        "\n",
        "    for epoch in range(epochs):\n",
        "\n",
        "        z1 = X.dot(W1)+b1\n",
        "        a1 = act(z1)\n",
        "        z2 = a1.dot(W2)+b2\n",
        "        a2 = sigmoid(z2)\n",
        "\n",
        "\n",
        "        error = y - a2\n",
        "        d2 = error * sigmoid_deriv(a2)\n",
        "        dW2 = a1.T.dot(d2)\n",
        "        db2 = np.sum(d2,axis=0,keepdims=True)\n",
        "\n",
        "        d1 = d2.dot(W2.T)*act_deriv(a1)\n",
        "        dW1 = X.T.dot(d1)\n",
        "        db1 = np.sum(d1,axis=0,keepdims=True)\n",
        "\n",
        "\n",
        "        W1 += lr*dW1\n",
        "        b1 += lr*db1\n",
        "        W2 += lr*dW2\n",
        "        b2 += lr*db2\n",
        "\n",
        "    return W1,b1,W2,b2\n",
        "\n",
        "def predict(X, W1,b1,W2,b2, hidden_activation=\"sigmoid\"):\n",
        "    act = sigmoid if hidden_activation==\"sigmoid\" else relu\n",
        "    z1 = X.dot(W1)+b1\n",
        "    a1 = act(z1)\n",
        "    z2 = a1.dot(W2)+b2\n",
        "    return sigmoid(z2)\n",
        "\n",
        "\n",
        "W1,b1,W2,b2 = train_mlp(X,y, hidden_activation=\"sigmoid\", lr=0.1, epochs=5000)\n",
        "y_prob = predict(X,W1,b1,W2,b2,\"sigmoid\")\n",
        "y_pred = (y_prob>=0.5).astype(int)\n",
        "\n",
        "print(\"Accuracy:\", accuracy(y,y_pred))\n",
        "print(\"Precision:\", precision(y,y_pred))\n",
        "print(\"Recall:\", recall(y,y_pred))\n",
        "print(\"F1 Score:\", f1_score(y,y_pred))\n",
        "\n",
        "\n",
        "fpr,tpr = roc_curve(y,y_prob)\n",
        "plt.plot(fpr,tpr,label=\"ROC\")\n",
        "plt.plot([0,1],[0,1],'--')\n",
        "plt.xlabel(\"False Positive Rate\")\n",
        "plt.ylabel(\"True Positive Rate\")\n",
        "plt.title(\"ROC Curve for XOR MLP\")\n",
        "plt.legend()\n",
        "plt.show()"
      ],
      "metadata": {
        "colab": {
          "base_uri": "https://localhost:8080/",
          "height": 541
        },
        "id": "KVPtLCRFur99",
        "outputId": "b25e264d-b6f6-4641-be2a-e00d47c5e808"
      },
      "execution_count": 11,
      "outputs": [
        {
          "output_type": "stream",
          "name": "stdout",
          "text": [
            "Accuracy: 0.5\n",
            "Precision: 0.49999999975\n",
            "Recall: 0.49999999975\n",
            "F1 Score: 0.49999999924999994\n"
          ]
        },
        {
          "output_type": "display_data",
          "data": {
            "text/plain": [
              "<Figure size 640x480 with 1 Axes>"
            ],
            "image/png": "[encoded data removed]"
          },
          "metadata": {}
        }
      ]
    }
  ]
}