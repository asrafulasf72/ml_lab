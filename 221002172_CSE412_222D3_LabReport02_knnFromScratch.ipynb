{
  "nbformat": 4,
  "nbformat_minor": 0,
  "metadata": {
    "colab": {
      "provenance": [],
      "authorship_tag": "ABX9TyN4umqabxSlecxn5Ku65nJS",
      "include_colab_link": true
    },
    "kernelspec": {
      "name": "python3",
      "display_name": "Python 3"
    },
    "language_info": {
      "name": "python"
    }
  },
  "cells": [
    {
      "cell_type": "markdown",
      "metadata": {
        "id": "view-in-github",
        "colab_type": "text"
      },
      "source": [
        "<a href=\"https://colab.research.google.com/github/asrafulasf72/ml_lab/blob/main/221002172_CSE412_222D3_LabReport02_knnFromScratch.ipynb\" target=\"_parent\"><img src=\"https://colab.research.google.com/assets/colab-badge.svg\" alt=\"Open In Colab\"/></a>"
      ]
    },
    {
      "cell_type": "code",
      "execution_count": 1,
      "metadata": {
        "id": "S1pwDiB79LCa"
      },
      "outputs": [],
      "source": [
        "import numpy as np\n",
        "from collections import Counter\n",
        "from sklearn import datasets\n",
        "from sklearn.model_selection import train_test_split\n",
        "from sklearn.neighbors import KNeighborsClassifier"
      ]
    },
    {
      "cell_type": "code",
      "source": [
        "def accuracy_score_custom(y_true, y_pred):\n",
        "    correct = np.sum(y_true == y_pred)\n",
        "    return correct / len(y_true)\n",
        "\n",
        "def confusion_matrix_custom(y_true, y_pred):\n",
        "    unique_classes = np.unique(np.concatenate((y_true, y_pred)))\n",
        "    matrix = np.zeros((len(unique_classes), len(unique_classes)), dtype=int)\n",
        "    for i, actual in enumerate(unique_classes):\n",
        "        for j, predicted in enumerate(unique_classes):\n",
        "            matrix[i, j] = np.sum((y_true == actual) & (y_pred == predicted))\n",
        "    return matrix, unique_classes\n",
        "\n",
        "def precision_score_custom(y_true, y_pred):\n",
        "    cm, _ = confusion_matrix_custom(y_true, y_pred)\n",
        "    precision_per_class = []\n",
        "    for i in range(len(cm)):\n",
        "        tp = cm[i, i]\n",
        "        fp = np.sum(cm[:, i]) - tp\n",
        "        precision_per_class.append(tp / (tp + fp) if (tp + fp) > 0 else 0)\n",
        "    return np.mean(precision_per_class)\n",
        "\n",
        "def recall_score_custom(y_true, y_pred):\n",
        "    cm, _ = confusion_matrix_custom(y_true, y_pred)\n",
        "    recall_per_class = []\n",
        "    for i in range(len(cm)):\n",
        "        tp = cm[i, i]\n",
        "        fn = np.sum(cm[i, :]) - tp\n",
        "        recall_per_class.append(tp / (tp + fn) if (tp + fn) > 0 else 0)\n",
        "    return np.mean(recall_per_class)\n",
        "\n",
        "def f1_score_custom(y_true, y_pred):\n",
        "    prec = precision_score_custom(y_true, y_pred)\n",
        "    rec = recall_score_custom(y_true, y_pred)\n",
        "    return 2 * (prec * rec) / (prec + rec) if (prec + rec) > 0 else 0"
      ],
      "metadata": {
        "id": "rG5UjBMv9Zu_"
      },
      "execution_count": 2,
      "outputs": []
    },
    {
      "cell_type": "code",
      "source": [
        "class KNN_Custom:\n",
        "    def __init__(self, k=3):\n",
        "        self.k = k\n",
        "\n",
        "    def fit(self, X_train, y_train):\n",
        "        self.X_train = X_train\n",
        "        self.y_train = y_train\n",
        "\n",
        "    def predict(self, X_test):\n",
        "        predictions = [self._predict_one(x) for x in X_test]\n",
        "        return np.array(predictions)\n",
        "\n",
        "    def _predict_one(self, x):\n",
        "        distances = [np.sqrt(np.sum((x - x_train)**2)) for x_train in self.X_train]\n",
        "        k_indices = np.argsort(distances)[:self.k]\n",
        "        k_labels = [self.y_train[i] for i in k_indices]\n",
        "        most_common = Counter(k_labels).most_common(1)[0][0]\n",
        "        return most_common"
      ],
      "metadata": {
        "id": "tiv0uo7C9bxI"
      },
      "execution_count": 3,
      "outputs": []
    },
    {
      "cell_type": "code",
      "source": [
        "iris = datasets.load_iris()\n",
        "X_iris = iris.data\n",
        "y_iris = iris.target"
      ],
      "metadata": {
        "id": "nOfZOpQ99lAW"
      },
      "execution_count": 4,
      "outputs": []
    },
    {
      "cell_type": "code",
      "source": [
        "news_data = np.array([\n",
        "    \"Sports game tonight\",\n",
        "    \"Government election results\",\n",
        "    \"New smartphone released\",\n",
        "    \"Team wins championship\",\n",
        "    \"Prime minister speech\",\n",
        "    \"Tech conference 2025\",\n",
        "    \"Player scores record\",\n",
        "    \"Parliament passes law\",\n",
        "    \"AI breakthrough announced\"\n",
        "])\n",
        "news_labels = np.array([\n",
        "    \"Sports\", \"Politics\", \"Technology\",\n",
        "    \"Sports\", \"Politics\", \"Technology\",\n",
        "    \"Sports\", \"Politics\", \"Technology\"\n",
        "])\n"
      ],
      "metadata": {
        "id": "WmxznIs99pFW"
      },
      "execution_count": 5,
      "outputs": []
    },
    {
      "cell_type": "code",
      "source": [
        "from sklearn.feature_extraction.text import CountVectorizer\n",
        "vectorizer = CountVectorizer()\n",
        "X_news = vectorizer.fit_transform(news_data).toarray()"
      ],
      "metadata": {
        "id": "bFMkJd709uGW"
      },
      "execution_count": 6,
      "outputs": []
    },
    {
      "cell_type": "code",
      "source": [
        "def evaluate_knn(dataset_name, X, y, k_values, split_ratios):\n",
        "    print(f\"\\n=== Dataset: {dataset_name} ===\")\n",
        "    best_score = 0\n",
        "    best_k = None\n",
        "    best_split = None\n",
        "\n",
        "    for split in split_ratios:\n",
        "        for k in k_values:\n",
        "            X_train, X_test, y_train, y_test = train_test_split(X, y, test_size=1-split, random_state=42)\n",
        "\n",
        "            # Custom KNN\n",
        "            knn_custom = KNN_Custom(k=k)\n",
        "            knn_custom.fit(X_train, y_train)\n",
        "            y_pred_custom = knn_custom.predict(X_test)\n",
        "\n",
        "            acc = accuracy_score_custom(y_test, y_pred_custom)\n",
        "\n",
        "            if acc > best_score:\n",
        "                best_score = acc\n",
        "                best_k = k\n",
        "                best_split = split\n",
        "\n",
        "    print(f\"Best k: {best_k}, Best Split: {best_split}, Best Accuracy: {best_score:.4f}\")\n",
        "    return X, y, best_k, best_split"
      ],
      "metadata": {
        "id": "N2olz-_u9xs_"
      },
      "execution_count": 10,
      "outputs": []
    },
    {
      "cell_type": "code",
      "source": [
        "X_train, X_test, y_train, y_test = train_test_split(X, y, test_size=1-best_split, random_state=42)\n",
        "knn_custom = KNN_Custom(k=best_k)\n",
        "knn_custom.fit(X_train, y_train)\n",
        "y_pred_custom = knn_custom.predict(X_test)\n",
        "\n",
        "print(\"\\nCustom KNN Results:\")\n",
        "print(\"Accuracy:\", accuracy_score_custom(y_test, y_pred_custom))\n",
        "print(\"Precision:\", precision_score_custom(y_test, y_pred_custom))\n",
        "print(\"Recall:\", recall_score_custom(y_test, y_pred_custom))\n",
        "print(\"F1 Score:\", f1_score_custom(y_test, y_pred_custom))\n",
        "cm, classes = confusion_matrix_custom(y_test, y_pred_custom)\n",
        "print(\"Confusion Matrix:\\n\", cm)"
      ],
      "metadata": {
        "colab": {
          "base_uri": "https://localhost:8080/"
        },
        "id": "0I6H0-3Z93Cu",
        "outputId": "3083916d-63bd-4f4a-9387-8e1f79d9383c"
      },
      "execution_count": 13,
      "outputs": [
        {
          "output_type": "stream",
          "name": "stdout",
          "text": [
            "\n",
            "Custom KNN Results:\n",
            "Accuracy: 1.0\n",
            "Precision: 1.0\n",
            "Recall: 1.0\n",
            "F1 Score: 1.0\n",
            "Confusion Matrix:\n",
            " [[19  0  0]\n",
            " [ 0 14  0]\n",
            " [ 0  0 13]]\n"
          ]
        }
      ]
    },
    {
      "cell_type": "code",
      "source": [
        "knn_sklearn = KNeighborsClassifier(n_neighbors=best_k)\n",
        "knn_sklearn.fit(X_train, y_train)\n",
        "y_pred_sklearn = knn_sklearn.predict(X_test)\n",
        "\n",
        "print(\"\\nScikit-learn KNN Results:\")\n",
        "from sklearn.metrics import accuracy_score, precision_score, recall_score, f1_score, confusion_matrix\n",
        "print(\"Accuracy:\", accuracy_score(y_test, y_pred_sklearn))\n",
        "print(\"Precision:\", precision_score(y_test, y_pred_sklearn, average='macro'))\n",
        "print(\"Recall:\", recall_score(y_test, y_pred_sklearn, average='macro'))\n",
        "print(\"F1 Score:\", f1_score(y_test, y_pred_sklearn, average='macro'))\n",
        "print(\"Confusion Matrix:\\n\", confusion_matrix(y_test, y_pred_sklearn))"
      ],
      "metadata": {
        "colab": {
          "base_uri": "https://localhost:8080/"
        },
        "id": "ojj4ZvHd-QSe",
        "outputId": "b30f4579-eca2-4123-9bac-30f1733c51f4"
      },
      "execution_count": 15,
      "outputs": [
        {
          "output_type": "stream",
          "name": "stdout",
          "text": [
            "\n",
            "Scikit-learn KNN Results:\n",
            "Accuracy: 1.0\n",
            "Precision: 1.0\n",
            "Recall: 1.0\n",
            "F1 Score: 1.0\n",
            "Confusion Matrix:\n",
            " [[19  0  0]\n",
            " [ 0 14  0]\n",
            " [ 0  0 13]]\n"
          ]
        }
      ]
    },
    {
      "cell_type": "code",
      "source": [
        "k_values = range(1, 11)\n",
        "split_ratios = [0.6, 0.7, 0.8]\n",
        "\n",
        "evaluate_knn(\"Iris\", X_iris, y_iris, k_values, split_ratios)\n",
        "evaluate_knn(\"News\", X_news, news_labels, k_values, split_ratios)"
      ],
      "metadata": {
        "colab": {
          "base_uri": "https://localhost:8080/"
        },
        "id": "Q46AZs0j-Y3o",
        "outputId": "09336d66-4c59-441b-9a68-e0cbee1e8da8"
      },
      "execution_count": 16,
      "outputs": [
        {
          "output_type": "stream",
          "name": "stdout",
          "text": [
            "\n",
            "=== Dataset: Iris ===\n",
            "Best k: 1, Best Split: 0.7, Best Accuracy: 1.0000\n",
            "\n",
            "=== Dataset: News ===\n",
            "Best k: 3, Best Split: 0.7, Best Accuracy: 0.3333\n"
          ]
        },
        {
          "output_type": "execute_result",
          "data": {
            "text/plain": [
              "(array([[0, 0, 0, 0, 0, 0, 0, 1, 0, 0, 0, 0, 0, 0, 0, 0, 0, 0, 0, 0, 0, 0,\n",
              "         1, 0, 0, 1, 0],\n",
              "        [0, 0, 0, 0, 0, 0, 1, 0, 1, 0, 0, 0, 0, 0, 0, 0, 0, 0, 1, 0, 0, 0,\n",
              "         0, 0, 0, 0, 0],\n",
              "        [0, 0, 0, 0, 0, 0, 0, 0, 0, 0, 0, 1, 0, 0, 0, 0, 0, 1, 0, 0, 1, 0,\n",
              "         0, 0, 0, 0, 0],\n",
              "        [0, 0, 0, 0, 1, 0, 0, 0, 0, 0, 0, 0, 0, 0, 0, 0, 0, 0, 0, 0, 0, 0,\n",
              "         0, 1, 0, 0, 1],\n",
              "        [0, 0, 0, 0, 0, 0, 0, 0, 0, 0, 1, 0, 0, 0, 0, 1, 0, 0, 0, 0, 0, 1,\n",
              "         0, 0, 0, 0, 0],\n",
              "        [1, 0, 0, 0, 0, 1, 0, 0, 0, 0, 0, 0, 0, 0, 0, 0, 0, 0, 0, 0, 0, 0,\n",
              "         0, 0, 1, 0, 0],\n",
              "        [0, 0, 0, 0, 0, 0, 0, 0, 0, 0, 0, 0, 0, 0, 1, 0, 1, 0, 0, 1, 0, 0,\n",
              "         0, 0, 0, 0, 0],\n",
              "        [0, 0, 0, 0, 0, 0, 0, 0, 0, 1, 0, 0, 1, 1, 0, 0, 0, 0, 0, 0, 0, 0,\n",
              "         0, 0, 0, 0, 0],\n",
              "        [0, 1, 1, 1, 0, 0, 0, 0, 0, 0, 0, 0, 0, 0, 0, 0, 0, 0, 0, 0, 0, 0,\n",
              "         0, 0, 0, 0, 0]]),\n",
              " array(['Sports', 'Politics', 'Technology', 'Sports', 'Politics',\n",
              "        'Technology', 'Sports', 'Politics', 'Technology'], dtype='<U10'),\n",
              " 3,\n",
              " 0.7)"
            ]
          },
          "metadata": {},
          "execution_count": 16
        }
      ]
    }
  ]
}